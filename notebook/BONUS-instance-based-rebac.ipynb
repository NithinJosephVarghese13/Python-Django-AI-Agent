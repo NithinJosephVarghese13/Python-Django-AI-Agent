{
 "cells": [
  {
   "cell_type": "code",
   "execution_count": null,
   "metadata": {},
   "outputs": [],
   "source": [
    "import setup  # notebooks/setup.py\n",
    "setup.init()"
   ]
  },
  {
   "cell_type": "code",
   "execution_count": 2,
   "metadata": {},
   "outputs": [],
   "source": [
    "from mypermit import permit_client\n",
    "\n",
    "permit = permit_client"
   ]
  },
  {
   "cell_type": "code",
   "execution_count": 5,
   "metadata": {},
   "outputs": [],
   "source": [
    "from django.contrib.auth import get_user_model\n",
    "from documents.models import Document\n",
    "\n",
    "\n",
    "User = get_user_model()\n",
    "\n",
    "admin_users = User.objects.filter(is_superuser=True)\n",
    "documents = Document.objects.all()"
   ]
  },
  {
   "cell_type": "code",
   "execution_count": 6,
   "metadata": {},
   "outputs": [],
   "source": [
    "from permit import PermitApiError\n",
    "\n",
    "async def get_or_create_resource_instance(django_instance, resource_key=\"document\"):\n",
    "    _key = f\"{resource_key}:{django_instance.id}\"\n",
    "    try:\n",
    "        _resource = await permit.api.resource_instances.get(_key)\n",
    "    except PermitApiError as e:\n",
    "        if e.status_code == 404:\n",
    "            payload = {\n",
    "                \"key\": f\"{django_instance.id}\",\n",
    "                \"resource\": resource_key,\n",
    "                \"tenant\": \"default\",\n",
    "                \n",
    "            }\n",
    "            _resource = await permit.api.resource_instances.create(payload)\n",
    "        else:\n",
    "            raise e\n",
    "    return _resource"
   ]
  },
  {
   "cell_type": "code",
   "execution_count": 7,
   "metadata": {},
   "outputs": [],
   "source": [
    "async def assign_user_ownership(django_user, django_instance, resource_key=\"document\"):\n",
    "    _key = f\"{resource_key}:{django_instance.id}\"\n",
    "    return await permit.api.users.assign_role({\n",
    "        \"user\": f\"{django_user.id}\",\n",
    "        \"role\": \"admin\",\n",
    "        \"resource_instance\": _key,\n",
    "        \"tenant\": \"default\",\n",
    "    })"
   ]
  },
  {
   "cell_type": "code",
   "execution_count": 8,
   "metadata": {},
   "outputs": [
    {
     "name": "stdout",
     "output_type": "stream",
     "text": [
      "key='6' tenant='default' resource='document' id=UUID('7f4a32ee-5bce-4784-884e-ccc0fb1dd9e4') organization_id=UUID('c5928800-1737-4973-a296-ec1c24fa0a1a') project_id=UUID('f2327095-7e49-425e-8726-87b2a85e7ee6') environment_id=UUID('a3856ddc-91af-43ac-8b22-08200a8855ed') created_at=datetime.datetime(2025, 6, 4, 18, 28, tzinfo=datetime.timezone.utc) updated_at=datetime.datetime(2025, 6, 4, 18, 28, tzinfo=datetime.timezone.utc) resource_id=UUID('3f71f9fd-14f4-4702-88f2-6745a0b68003') tenant_id=UUID('f99e0569-2824-4fe5-a820-43e804eb5d47') attributes=None relationships=None\n",
      "key='11' tenant='default' resource='document' id=UUID('386858b2-6f87-44eb-9903-a488fc5ec534') organization_id=UUID('c5928800-1737-4973-a296-ec1c24fa0a1a') project_id=UUID('f2327095-7e49-425e-8726-87b2a85e7ee6') environment_id=UUID('a3856ddc-91af-43ac-8b22-08200a8855ed') created_at=datetime.datetime(2025, 6, 4, 18, 28, tzinfo=datetime.timezone.utc) updated_at=datetime.datetime(2025, 6, 4, 18, 28, tzinfo=datetime.timezone.utc) resource_id=UUID('3f71f9fd-14f4-4702-88f2-6745a0b68003') tenant_id=UUID('f99e0569-2824-4fe5-a820-43e804eb5d47') attributes=None relationships=None\n",
      "key='14' tenant='default' resource='document' id=UUID('f6e60a1d-8104-4d15-973f-28826514f603') organization_id=UUID('c5928800-1737-4973-a296-ec1c24fa0a1a') project_id=UUID('f2327095-7e49-425e-8726-87b2a85e7ee6') environment_id=UUID('a3856ddc-91af-43ac-8b22-08200a8855ed') created_at=datetime.datetime(2025, 6, 4, 18, 28, 1, tzinfo=datetime.timezone.utc) updated_at=datetime.datetime(2025, 6, 4, 18, 28, 1, tzinfo=datetime.timezone.utc) resource_id=UUID('3f71f9fd-14f4-4702-88f2-6745a0b68003') tenant_id=UUID('f99e0569-2824-4fe5-a820-43e804eb5d47') attributes=None relationships=None\n",
      "key='26' tenant='default' resource='document' id=UUID('7990fa04-f8c3-4dd0-9823-da0f85b9f9bb') organization_id=UUID('c5928800-1737-4973-a296-ec1c24fa0a1a') project_id=UUID('f2327095-7e49-425e-8726-87b2a85e7ee6') environment_id=UUID('a3856ddc-91af-43ac-8b22-08200a8855ed') created_at=datetime.datetime(2025, 6, 4, 18, 28, 2, tzinfo=datetime.timezone.utc) updated_at=datetime.datetime(2025, 6, 4, 18, 28, 2, tzinfo=datetime.timezone.utc) resource_id=UUID('3f71f9fd-14f4-4702-88f2-6745a0b68003') tenant_id=UUID('f99e0569-2824-4fe5-a820-43e804eb5d47') attributes=None relationships=None\n"
     ]
    }
   ],
   "source": [
    "for obj in documents:\n",
    "    response = await get_or_create_resource_instance(obj, resource_key=\"document\")\n",
    "    role = await assign_user_ownership(obj.owner, obj, resource_key=\"document\")\n",
    "    print(response)\n",
    "    "
   ]
  },
  {
   "cell_type": "code",
   "execution_count": 9,
   "metadata": {},
   "outputs": [
    {
     "name": "stdout",
     "output_type": "stream",
     "text": [
      "key='6' tenant='default' resource='document' id=UUID('7f4a32ee-5bce-4784-884e-ccc0fb1dd9e4') organization_id=UUID('c5928800-1737-4973-a296-ec1c24fa0a1a') project_id=UUID('f2327095-7e49-425e-8726-87b2a85e7ee6') environment_id=UUID('a3856ddc-91af-43ac-8b22-08200a8855ed') created_at=datetime.datetime(2025, 6, 4, 18, 28, tzinfo=datetime.timezone.utc) updated_at=datetime.datetime(2025, 6, 4, 18, 28, tzinfo=datetime.timezone.utc) resource_id=UUID('3f71f9fd-14f4-4702-88f2-6745a0b68003') tenant_id=UUID('f99e0569-2824-4fe5-a820-43e804eb5d47') attributes=None relationships=None\n",
      "key='11' tenant='default' resource='document' id=UUID('386858b2-6f87-44eb-9903-a488fc5ec534') organization_id=UUID('c5928800-1737-4973-a296-ec1c24fa0a1a') project_id=UUID('f2327095-7e49-425e-8726-87b2a85e7ee6') environment_id=UUID('a3856ddc-91af-43ac-8b22-08200a8855ed') created_at=datetime.datetime(2025, 6, 4, 18, 28, tzinfo=datetime.timezone.utc) updated_at=datetime.datetime(2025, 6, 4, 18, 28, tzinfo=datetime.timezone.utc) resource_id=UUID('3f71f9fd-14f4-4702-88f2-6745a0b68003') tenant_id=UUID('f99e0569-2824-4fe5-a820-43e804eb5d47') attributes=None relationships=None\n",
      "key='14' tenant='default' resource='document' id=UUID('f6e60a1d-8104-4d15-973f-28826514f603') organization_id=UUID('c5928800-1737-4973-a296-ec1c24fa0a1a') project_id=UUID('f2327095-7e49-425e-8726-87b2a85e7ee6') environment_id=UUID('a3856ddc-91af-43ac-8b22-08200a8855ed') created_at=datetime.datetime(2025, 6, 4, 18, 28, 1, tzinfo=datetime.timezone.utc) updated_at=datetime.datetime(2025, 6, 4, 18, 28, 1, tzinfo=datetime.timezone.utc) resource_id=UUID('3f71f9fd-14f4-4702-88f2-6745a0b68003') tenant_id=UUID('f99e0569-2824-4fe5-a820-43e804eb5d47') attributes=None relationships=None\n",
      "key='26' tenant='default' resource='document' id=UUID('7990fa04-f8c3-4dd0-9823-da0f85b9f9bb') organization_id=UUID('c5928800-1737-4973-a296-ec1c24fa0a1a') project_id=UUID('f2327095-7e49-425e-8726-87b2a85e7ee6') environment_id=UUID('a3856ddc-91af-43ac-8b22-08200a8855ed') created_at=datetime.datetime(2025, 6, 4, 18, 28, 2, tzinfo=datetime.timezone.utc) updated_at=datetime.datetime(2025, 6, 4, 18, 28, 2, tzinfo=datetime.timezone.utc) resource_id=UUID('3f71f9fd-14f4-4702-88f2-6745a0b68003') tenant_id=UUID('f99e0569-2824-4fe5-a820-43e804eb5d47') attributes=None relationships=None\n"
     ]
    }
   ],
   "source": [
    "for admin_u in admin_users:\n",
    "    for obj in documents:\n",
    "        response = await get_or_create_resource_instance(obj, resource_key=\"document\")\n",
    "        role = await assign_user_ownership(admin_u, obj, resource_key=\"document\")\n",
    "        print(response)"
   ]
  },
  {
   "cell_type": "code",
   "execution_count": null,
   "metadata": {},
   "outputs": [
    {
     "data": {
      "text/plain": [
       "False"
      ]
     },
     "execution_count": 12,
     "metadata": {},
     "output_type": "execute_result"
    }
   ],
   "source": [
    "random_user = User.objects.all().order_by(\"?\")[0]\n",
    "random_doc = Document.objects.all().order_by(\"?\")[0]\n",
    "\n",
    "await permit.check(f\"{random_user.id}\", \"update\", f\"document:{random_doc.id}\")"
   ]
  },
  {
   "cell_type": "code",
   "execution_count": null,
   "metadata": {},
   "outputs": [],
   "source": []
  }
 ],
 "metadata": {
  "kernelspec": {
   "display_name": "venv",
   "language": "python",
   "name": "python3"
  },
  "language_info": {
   "codemirror_mode": {
    "name": "ipython",
    "version": 3
   },
   "file_extension": ".py",
   "mimetype": "text/x-python",
   "name": "python",
   "nbconvert_exporter": "python",
   "pygments_lexer": "ipython3",
   "version": "3.13.2"
  }
 },
 "nbformat": 4,
 "nbformat_minor": 2
}
