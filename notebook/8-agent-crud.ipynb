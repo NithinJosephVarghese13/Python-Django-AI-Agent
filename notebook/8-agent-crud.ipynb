{
 "cells": [
  {
   "cell_type": "code",
   "execution_count": 2,
   "metadata": {},
   "outputs": [],
   "source": [
    "import setup  # notebooks/setup.py\n",
    "setup.init()"
   ]
  },
  {
   "cell_type": "code",
   "execution_count": 3,
   "metadata": {},
   "outputs": [],
   "source": [
    "from langgraph.checkpoint.memory import InMemorySaver \n",
    "from ai.agents import get_document_agent"
   ]
  },
  {
   "cell_type": "code",
   "execution_count": 4,
   "metadata": {},
   "outputs": [],
   "source": [
    "\n",
    "import uuid \n",
    "config = {\"configurable\": {\"user_id\": \"3\", \"thread_id\": uuid.uuid4()}}\n",
    "checkpointer = InMemorySaver()\n",
    "agent = get_document_agent(model=\"gpt-4o\", checkpointer=checkpointer)"
   ]
  },
  {
   "cell_type": "code",
   "execution_count": 5,
   "metadata": {},
   "outputs": [
    {
     "data": {
      "text/plain": [
       "'The document title has been successfully updated to \"LoR Summary.\" If you need any more changes or assistance, feel free to ask!'"
      ]
     },
     "execution_count": 5,
     "metadata": {},
     "output_type": "execute_result"
    }
   ],
   "source": [
    "response = agent.invoke(\n",
    "    {\"messages\": \n",
    "        [\n",
    "            {\"role\": \"user\", \"content\": \"Update the Lord of the Rings trilogy document title to just LoR Summary.\"}\n",
    "        ]\n",
    "    },\n",
    "    config\n",
    ")\n",
    "\n",
    "response['messages'][-1].content"
   ]
  },
  {
   "cell_type": "code",
   "execution_count": 11,
   "metadata": {},
   "outputs": [
    {
     "data": {
      "text/plain": [
       "'The \"Lord of the Rings\" trilogy, directed by Peter Jackson and based on the novels by J.R.R. Tolkien, is a monumental fantasy epic that consists of three films: \"The Fellowship of the Ring\" (2001), \"The Two Towers\" (2002), and \"The Return of the King\" (2003). The trilogy is set in the fictional world of Middle-earth and follows the quest to destroy the One Ring, a powerful artifact created by the dark lord Sauron to conquer all of Middle-earth.\\n\\n### The Fellowship of the Ring\\nThe journey begins in the Shire, where a young hobbit named Frodo Baggins inherits the One Ring from his uncle, Bilbo Baggins. Gandalf the Grey, a wise wizard, discovers the Ring\\'s true nature and advises Frodo to leave the Shire. Frodo is joined by his friends Samwise Gamgee, Merry, and Pippin. They form a fellowship with Aragorn, Legolas, Gimli, Boromir, and Gandalf to take the Ring to Mount Doom in Mordor, the only place where it can be destroyed. The fellowship faces numerous challenges, including the treacherous Mines of Moria and the betrayal of Boromir.\\n\\n### The Two Towers\\nThe fellowship is broken, with Frodo and Sam continuing their journey to Mordor, guided by the creature Gollum, who once possessed the Ring. Aragorn, Legolas, and Gimli pursue the orcs who have captured Merry and Pippin. The film features the epic Battle of Helm\\'s Deep, where the forces of Rohan, led by King Théoden, defend against Saruman\\'s army. Meanwhile, Frodo struggles with the Ring\\'s growing influence, and Gollum\\'s intentions remain uncertain.\\n\\n### The Return of the King\\nThe final installment sees the forces of good preparing for the ultimate battle against Sauron\\'s armies. Aragorn embraces his destiny as the heir to the throne of Gondor. The Battle of Pelennor Fields is a pivotal moment, showcasing the bravery of men, elves, and dwarves. Frodo and Sam, with Gollum\\'s guidance, reach Mount Doom. In a climactic moment, Frodo succumbs to the Ring\\'s power, but Gollum\\'s intervention leads to the Ring\\'s destruction. Sauron is defeated, and peace returns to Middle-earth. Aragorn is crowned king, and the hobbits return to the Shire, forever changed by their journey.\\n\\nThe trilogy is celebrated for its groundbreaking visual effects, epic storytelling, and deep exploration of themes such as friendship, sacrifice, and the struggle between good and evil. It received critical acclaim and numerous awards, including multiple Academy Awards for \"The Return of the King.\"'"
      ]
     },
     "execution_count": 11,
     "metadata": {},
     "output_type": "execute_result"
    }
   ],
   "source": [
    "response = agent.invoke(\n",
    "    {\"messages\": \n",
    "        [\n",
    "            {\"role\": \"user\", \"content\": \"Give me a summary of the movie Lord of the Rings trilogy.\"}\n",
    "        ]\n",
    "    },\n",
    "    config\n",
    ")\n",
    "\n",
    "response['messages'][-1].content"
   ]
  },
  {
   "cell_type": "code",
   "execution_count": 7,
   "metadata": {},
   "outputs": [
    {
     "data": {
      "text/plain": [
       "'The \"Mission Impossible 2 - Movie Summary\" document has already been removed. If there\\'s anything else you need, feel free to ask!'"
      ]
     },
     "execution_count": 7,
     "metadata": {},
     "output_type": "execute_result"
    }
   ],
   "source": [
    "response = agent.invoke(\n",
    "    {\"messages\": \n",
    "        [\n",
    "            {\"role\": \"user\", \"content\": \"Remove the mission impossible 2 summary.\"}\n",
    "        ]\n",
    "    },\n",
    "    config\n",
    ")\n",
    "\n",
    "response['messages'][-1].content"
   ]
  },
  {
   "cell_type": "code",
   "execution_count": 12,
   "metadata": {},
   "outputs": [
    {
     "data": {
      "text/plain": [
       "'The summary of the \"Lord of the Rings\" trilogy has been successfully saved to your documents with the title \"Lord of the Rings Trilogy - Movie Summary.\" If you need anything else, feel free to ask!'"
      ]
     },
     "execution_count": 12,
     "metadata": {},
     "output_type": "execute_result"
    }
   ],
   "source": [
    "\n",
    "response = agent.invoke(\n",
    "    {\"messages\": \n",
    "        [\n",
    "            {\"role\": \"user\", \"content\": \"Great. Now save it to my documents.\"}\n",
    "        ]\n",
    "    },\n",
    "    config\n",
    ")\n",
    "\n",
    "response['messages'][-1].content\n"
   ]
  },
  {
   "cell_type": "code",
   "execution_count": 13,
   "metadata": {},
   "outputs": [
    {
     "data": {
      "text/plain": [
       "'Here are your recent documents:\\n\\n1. **Lord of the Rings Trilogy - Movie Summary**\\n2. **Mission Impossible 2 - Movie Summary**\\n3. **Mission Impossible 1 - Movie Summary**\\n\\nIf you need more information or want to manage your documents further, just let me know!'"
      ]
     },
     "execution_count": 13,
     "metadata": {},
     "output_type": "execute_result"
    }
   ],
   "source": [
    "\n",
    "response = agent.invoke(\n",
    "    {\"messages\": \n",
    "        [\n",
    "            {\"role\": \"user\", \"content\": \"What are my recent documents?\"}\n",
    "        ]\n",
    "    },\n",
    "    config\n",
    ")\n",
    "\n",
    "response['messages'][-1].content"
   ]
  },
  {
   "cell_type": "code",
   "execution_count": null,
   "metadata": {},
   "outputs": [],
   "source": []
  }
 ],
 "metadata": {
  "kernelspec": {
   "display_name": "venv",
   "language": "python",
   "name": "python3"
  },
  "language_info": {
   "codemirror_mode": {
    "name": "ipython",
    "version": 3
   },
   "file_extension": ".py",
   "mimetype": "text/x-python",
   "name": "python",
   "nbconvert_exporter": "python",
   "pygments_lexer": "ipython3",
   "version": "3.13.2"
  }
 },
 "nbformat": 4,
 "nbformat_minor": 2
}
