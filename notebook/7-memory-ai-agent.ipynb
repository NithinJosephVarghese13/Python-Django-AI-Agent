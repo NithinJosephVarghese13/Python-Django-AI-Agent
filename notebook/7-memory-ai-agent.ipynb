{
 "cells": [
  {
   "cell_type": "code",
   "execution_count": 1,
   "metadata": {},
   "outputs": [],
   "source": [
    "import setup  # notebooks/setup.py\n",
    "setup.init()"
   ]
  },
  {
   "cell_type": "code",
   "execution_count": 2,
   "metadata": {},
   "outputs": [],
   "source": [
    "from ai.agents import get_document_agent"
   ]
  },
  {
   "cell_type": "code",
   "execution_count": 3,
   "metadata": {},
   "outputs": [],
   "source": [
    "from langgraph.checkpoint.memory import InMemorySaver \n",
    "\n",
    "checkpointer = InMemorySaver()"
   ]
  },
  {
   "cell_type": "code",
   "execution_count": 4,
   "metadata": {},
   "outputs": [],
   "source": [
    "agent = get_document_agent(model=\"gpt-4o\", checkpointer=checkpointer)"
   ]
  },
  {
   "cell_type": "code",
   "execution_count": 5,
   "metadata": {},
   "outputs": [],
   "source": [
    "import uuid \n",
    "config = {\"configurable\": {\"user_id\": \"2\", \"thread_id\": uuid.uuid4()}}\n",
    "\n",
    "response = agent.invoke(\n",
    "    {\"messages\": \n",
    "        [\n",
    "            {\"role\": \"user\", \"content\": \"what are my recent documents?\"}\n",
    "        ]\n",
    "    },\n",
    "    config\n",
    ")"
   ]
  },
  {
   "cell_type": "code",
   "execution_count": 6,
   "metadata": {},
   "outputs": [
    {
     "data": {
      "text/plain": [
       "'Here are your 5 most recent documents:\\n\\n1. Document ID: 10, Title: \"Title\"\\n2. Document ID: 9, Title: \"Title\"\\n3. Document ID: 8, Title: \"Title\"\\n4. Document ID: 7, Title: \"Title\"\\n5. Document ID: 6, Title: \"Hello world\"\\n\\nIf you need more details about any of these documents, just let me know!'"
      ]
     },
     "execution_count": 6,
     "metadata": {},
     "output_type": "execute_result"
    }
   ],
   "source": [
    "response['messages'][-1].content"
   ]
  },
  {
   "cell_type": "code",
   "execution_count": 7,
   "metadata": {},
   "outputs": [
    {
     "data": {
      "text/plain": [
       "'Yes, it appears that there are duplicate titles among your recent documents. Documents with IDs 10, 9, 8, and 7 all have the title \"Title\". Only the document with ID 6 has a unique title, \"Hello world\".'"
      ]
     },
     "execution_count": 7,
     "metadata": {},
     "output_type": "execute_result"
    }
   ],
   "source": [
    "response = agent.invoke(\n",
    "    {\"messages\": \n",
    "        [\n",
    "            {\"role\": \"user\", \"content\": \"Are there duplicates\"}\n",
    "        ]\n",
    "    },\n",
    "    config\n",
    ")\n",
    "response['messages'][-1].content"
   ]
  },
  {
   "cell_type": "code",
   "execution_count": null,
   "metadata": {},
   "outputs": [],
   "source": []
  }
 ],
 "metadata": {
  "kernelspec": {
   "display_name": "venv",
   "language": "python",
   "name": "python3"
  },
  "language_info": {
   "codemirror_mode": {
    "name": "ipython",
    "version": 3
   },
   "file_extension": ".py",
   "mimetype": "text/x-python",
   "name": "python",
   "nbconvert_exporter": "python",
   "pygments_lexer": "ipython3",
   "version": "3.13.2"
  }
 },
 "nbformat": 4,
 "nbformat_minor": 2
}
